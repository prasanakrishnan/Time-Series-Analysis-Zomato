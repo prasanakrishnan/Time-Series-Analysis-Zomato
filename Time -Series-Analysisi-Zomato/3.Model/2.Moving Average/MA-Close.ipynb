{
 "cells": [
  {
   "cell_type": "code",
   "execution_count": 1,
   "id": "6f253448-1d37-49d3-a497-0edcf0cb51a7",
   "metadata": {},
   "outputs": [],
   "source": [
    "import pandas as pd\n",
    "import datetime as dt\n",
    "import yfinance as yf"
   ]
  },
  {
   "cell_type": "code",
   "execution_count": 2,
   "id": "b8b74161-b4ba-4412-8f41-9de8544c1b08",
   "metadata": {},
   "outputs": [
    {
     "name": "stderr",
     "output_type": "stream",
     "text": [
      "[*********************100%***********************]  1 of 1 completed\n"
     ]
    }
   ],
   "source": [
    "# Define the time period and stock symbol\n",
    "start = dt.datetime(2021, 6, 1)\n",
    "end = dt.datetime(2022, 1, 5)\n",
    "symbol = 'ZOMATO.NS'\n",
    "\n",
    "# Download stock data\n",
    "stk_data = yf.download(symbol, start=start, end=end)"
   ]
  },
  {
   "cell_type": "code",
   "execution_count": 3,
   "id": "de408729-bfea-4036-b5ce-e2e2c6e12a2f",
   "metadata": {},
   "outputs": [],
   "source": [
    "# Selecting specific columns\n",
    "stk_data = stk_data[[\"Open\", \"High\", \"Low\", \"Close\"]]"
   ]
  },
  {
   "cell_type": "code",
   "execution_count": 4,
   "id": "e87b99a9-ea21-4df5-bb6b-07a519fc6c7e",
   "metadata": {},
   "outputs": [
    {
     "data": {
      "text/html": [
       "<div>\n",
       "<style scoped>\n",
       "    .dataframe tbody tr th:only-of-type {\n",
       "        vertical-align: middle;\n",
       "    }\n",
       "\n",
       "    .dataframe tbody tr th {\n",
       "        vertical-align: top;\n",
       "    }\n",
       "\n",
       "    .dataframe thead tr th {\n",
       "        text-align: left;\n",
       "    }\n",
       "\n",
       "    .dataframe thead tr:last-of-type th {\n",
       "        text-align: right;\n",
       "    }\n",
       "</style>\n",
       "<table border=\"1\" class=\"dataframe\">\n",
       "  <thead>\n",
       "    <tr>\n",
       "      <th>Price</th>\n",
       "      <th>Open</th>\n",
       "      <th>High</th>\n",
       "      <th>Low</th>\n",
       "      <th>Close</th>\n",
       "    </tr>\n",
       "    <tr>\n",
       "      <th>Ticker</th>\n",
       "      <th>ZOMATO.NS</th>\n",
       "      <th>ZOMATO.NS</th>\n",
       "      <th>ZOMATO.NS</th>\n",
       "      <th>ZOMATO.NS</th>\n",
       "    </tr>\n",
       "    <tr>\n",
       "      <th>Date</th>\n",
       "      <th></th>\n",
       "      <th></th>\n",
       "      <th></th>\n",
       "      <th></th>\n",
       "    </tr>\n",
       "  </thead>\n",
       "  <tbody>\n",
       "    <tr>\n",
       "      <th>2021-07-23</th>\n",
       "      <td>116.000000</td>\n",
       "      <td>138.899994</td>\n",
       "      <td>115.000000</td>\n",
       "      <td>126.000000</td>\n",
       "    </tr>\n",
       "    <tr>\n",
       "      <th>2021-07-26</th>\n",
       "      <td>126.349998</td>\n",
       "      <td>143.750000</td>\n",
       "      <td>125.300003</td>\n",
       "      <td>140.649994</td>\n",
       "    </tr>\n",
       "    <tr>\n",
       "      <th>2021-07-27</th>\n",
       "      <td>141.699997</td>\n",
       "      <td>147.800003</td>\n",
       "      <td>127.750000</td>\n",
       "      <td>132.899994</td>\n",
       "    </tr>\n",
       "    <tr>\n",
       "      <th>2021-07-28</th>\n",
       "      <td>131.000000</td>\n",
       "      <td>135.000000</td>\n",
       "      <td>123.550003</td>\n",
       "      <td>131.199997</td>\n",
       "    </tr>\n",
       "    <tr>\n",
       "      <th>2021-07-29</th>\n",
       "      <td>134.949997</td>\n",
       "      <td>144.000000</td>\n",
       "      <td>132.199997</td>\n",
       "      <td>141.550003</td>\n",
       "    </tr>\n",
       "    <tr>\n",
       "      <th>...</th>\n",
       "      <td>...</td>\n",
       "      <td>...</td>\n",
       "      <td>...</td>\n",
       "      <td>...</td>\n",
       "    </tr>\n",
       "    <tr>\n",
       "      <th>2021-12-29</th>\n",
       "      <td>132.699997</td>\n",
       "      <td>137.699997</td>\n",
       "      <td>131.550003</td>\n",
       "      <td>137.100006</td>\n",
       "    </tr>\n",
       "    <tr>\n",
       "      <th>2021-12-30</th>\n",
       "      <td>137.050003</td>\n",
       "      <td>137.050003</td>\n",
       "      <td>133.300003</td>\n",
       "      <td>133.949997</td>\n",
       "    </tr>\n",
       "    <tr>\n",
       "      <th>2021-12-31</th>\n",
       "      <td>133.850006</td>\n",
       "      <td>138.399994</td>\n",
       "      <td>133.399994</td>\n",
       "      <td>137.399994</td>\n",
       "    </tr>\n",
       "    <tr>\n",
       "      <th>2022-01-03</th>\n",
       "      <td>139.699997</td>\n",
       "      <td>142.449997</td>\n",
       "      <td>138.300003</td>\n",
       "      <td>141.350006</td>\n",
       "    </tr>\n",
       "    <tr>\n",
       "      <th>2022-01-04</th>\n",
       "      <td>141.350006</td>\n",
       "      <td>141.550003</td>\n",
       "      <td>137.600006</td>\n",
       "      <td>138.350006</td>\n",
       "    </tr>\n",
       "  </tbody>\n",
       "</table>\n",
       "<p>113 rows × 4 columns</p>\n",
       "</div>"
      ],
      "text/plain": [
       "Price             Open        High         Low       Close\n",
       "Ticker       ZOMATO.NS   ZOMATO.NS   ZOMATO.NS   ZOMATO.NS\n",
       "Date                                                      \n",
       "2021-07-23  116.000000  138.899994  115.000000  126.000000\n",
       "2021-07-26  126.349998  143.750000  125.300003  140.649994\n",
       "2021-07-27  141.699997  147.800003  127.750000  132.899994\n",
       "2021-07-28  131.000000  135.000000  123.550003  131.199997\n",
       "2021-07-29  134.949997  144.000000  132.199997  141.550003\n",
       "...                ...         ...         ...         ...\n",
       "2021-12-29  132.699997  137.699997  131.550003  137.100006\n",
       "2021-12-30  137.050003  137.050003  133.300003  133.949997\n",
       "2021-12-31  133.850006  138.399994  133.399994  137.399994\n",
       "2022-01-03  139.699997  142.449997  138.300003  141.350006\n",
       "2022-01-04  141.350006  141.550003  137.600006  138.350006\n",
       "\n",
       "[113 rows x 4 columns]"
      ]
     },
     "execution_count": 4,
     "metadata": {},
     "output_type": "execute_result"
    }
   ],
   "source": [
    "stk_data "
   ]
  },
  {
   "cell_type": "code",
   "execution_count": 5,
   "id": "3f949d1e-e6da-4fae-a22a-350833556117",
   "metadata": {},
   "outputs": [],
   "source": [
    " # Adjust to your column names\n",
    "new_headers = ['Open','High','Low','Close'] \n",
    "stk_data.columns = new_headers"
   ]
  },
  {
   "cell_type": "code",
   "execution_count": 6,
   "id": "d8b9b3b3-7c14-48c6-9760-6f4e421b9257",
   "metadata": {},
   "outputs": [
    {
     "data": {
      "text/html": [
       "<div>\n",
       "<style scoped>\n",
       "    .dataframe tbody tr th:only-of-type {\n",
       "        vertical-align: middle;\n",
       "    }\n",
       "\n",
       "    .dataframe tbody tr th {\n",
       "        vertical-align: top;\n",
       "    }\n",
       "\n",
       "    .dataframe thead th {\n",
       "        text-align: right;\n",
       "    }\n",
       "</style>\n",
       "<table border=\"1\" class=\"dataframe\">\n",
       "  <thead>\n",
       "    <tr style=\"text-align: right;\">\n",
       "      <th></th>\n",
       "      <th>Open</th>\n",
       "      <th>High</th>\n",
       "      <th>Low</th>\n",
       "      <th>Close</th>\n",
       "    </tr>\n",
       "    <tr>\n",
       "      <th>Date</th>\n",
       "      <th></th>\n",
       "      <th></th>\n",
       "      <th></th>\n",
       "      <th></th>\n",
       "    </tr>\n",
       "  </thead>\n",
       "  <tbody>\n",
       "    <tr>\n",
       "      <th>2021-07-23</th>\n",
       "      <td>116.000000</td>\n",
       "      <td>138.899994</td>\n",
       "      <td>115.000000</td>\n",
       "      <td>126.000000</td>\n",
       "    </tr>\n",
       "    <tr>\n",
       "      <th>2021-07-26</th>\n",
       "      <td>126.349998</td>\n",
       "      <td>143.750000</td>\n",
       "      <td>125.300003</td>\n",
       "      <td>140.649994</td>\n",
       "    </tr>\n",
       "    <tr>\n",
       "      <th>2021-07-27</th>\n",
       "      <td>141.699997</td>\n",
       "      <td>147.800003</td>\n",
       "      <td>127.750000</td>\n",
       "      <td>132.899994</td>\n",
       "    </tr>\n",
       "    <tr>\n",
       "      <th>2021-07-28</th>\n",
       "      <td>131.000000</td>\n",
       "      <td>135.000000</td>\n",
       "      <td>123.550003</td>\n",
       "      <td>131.199997</td>\n",
       "    </tr>\n",
       "    <tr>\n",
       "      <th>2021-07-29</th>\n",
       "      <td>134.949997</td>\n",
       "      <td>144.000000</td>\n",
       "      <td>132.199997</td>\n",
       "      <td>141.550003</td>\n",
       "    </tr>\n",
       "    <tr>\n",
       "      <th>...</th>\n",
       "      <td>...</td>\n",
       "      <td>...</td>\n",
       "      <td>...</td>\n",
       "      <td>...</td>\n",
       "    </tr>\n",
       "    <tr>\n",
       "      <th>2021-12-29</th>\n",
       "      <td>132.699997</td>\n",
       "      <td>137.699997</td>\n",
       "      <td>131.550003</td>\n",
       "      <td>137.100006</td>\n",
       "    </tr>\n",
       "    <tr>\n",
       "      <th>2021-12-30</th>\n",
       "      <td>137.050003</td>\n",
       "      <td>137.050003</td>\n",
       "      <td>133.300003</td>\n",
       "      <td>133.949997</td>\n",
       "    </tr>\n",
       "    <tr>\n",
       "      <th>2021-12-31</th>\n",
       "      <td>133.850006</td>\n",
       "      <td>138.399994</td>\n",
       "      <td>133.399994</td>\n",
       "      <td>137.399994</td>\n",
       "    </tr>\n",
       "    <tr>\n",
       "      <th>2022-01-03</th>\n",
       "      <td>139.699997</td>\n",
       "      <td>142.449997</td>\n",
       "      <td>138.300003</td>\n",
       "      <td>141.350006</td>\n",
       "    </tr>\n",
       "    <tr>\n",
       "      <th>2022-01-04</th>\n",
       "      <td>141.350006</td>\n",
       "      <td>141.550003</td>\n",
       "      <td>137.600006</td>\n",
       "      <td>138.350006</td>\n",
       "    </tr>\n",
       "  </tbody>\n",
       "</table>\n",
       "<p>113 rows × 4 columns</p>\n",
       "</div>"
      ],
      "text/plain": [
       "                  Open        High         Low       Close\n",
       "Date                                                      \n",
       "2021-07-23  116.000000  138.899994  115.000000  126.000000\n",
       "2021-07-26  126.349998  143.750000  125.300003  140.649994\n",
       "2021-07-27  141.699997  147.800003  127.750000  132.899994\n",
       "2021-07-28  131.000000  135.000000  123.550003  131.199997\n",
       "2021-07-29  134.949997  144.000000  132.199997  141.550003\n",
       "...                ...         ...         ...         ...\n",
       "2021-12-29  132.699997  137.699997  131.550003  137.100006\n",
       "2021-12-30  137.050003  137.050003  133.300003  133.949997\n",
       "2021-12-31  133.850006  138.399994  133.399994  137.399994\n",
       "2022-01-03  139.699997  142.449997  138.300003  141.350006\n",
       "2022-01-04  141.350006  141.550003  137.600006  138.350006\n",
       "\n",
       "[113 rows x 4 columns]"
      ]
     },
     "execution_count": 6,
     "metadata": {},
     "output_type": "execute_result"
    }
   ],
   "source": [
    "stk_data"
   ]
  },
  {
   "cell_type": "code",
   "execution_count": 7,
   "id": "843b0eb0-6a08-4c58-8c19-3e8b153852e5",
   "metadata": {},
   "outputs": [
    {
     "name": "stdout",
     "output_type": "stream",
     "text": [
      "<class 'pandas.core.frame.DataFrame'>\n",
      "DatetimeIndex: 113 entries, 2021-07-23 to 2022-01-04\n",
      "Data columns (total 4 columns):\n",
      " #   Column  Non-Null Count  Dtype  \n",
      "---  ------  --------------  -----  \n",
      " 0   Open    113 non-null    float64\n",
      " 1   High    113 non-null    float64\n",
      " 2   Low     113 non-null    float64\n",
      " 3   Close   113 non-null    float64\n",
      "dtypes: float64(4)\n",
      "memory usage: 4.4 KB\n"
     ]
    }
   ],
   "source": [
    "stk_data.info()"
   ]
  },
  {
   "cell_type": "code",
   "execution_count": 8,
   "id": "4dac782e-9d0f-4084-9423-5f7730048b0e",
   "metadata": {},
   "outputs": [],
   "source": [
    "column=\"Close\""
   ]
  },
  {
   "cell_type": "code",
   "execution_count": 9,
   "id": "958b6b43-6a5d-41d7-b11e-f0265f08344a",
   "metadata": {},
   "outputs": [
    {
     "name": "stdout",
     "output_type": "stream",
     "text": [
      "Len: (113, 1)\n"
     ]
    }
   ],
   "source": [
    "from sklearn.preprocessing import MinMaxScaler\n",
    "Ms = MinMaxScaler()\n",
    "data1= Ms.fit_transform(stk_data[[column]])\n",
    "print(\"Len:\",data1.shape)"
   ]
  },
  {
   "cell_type": "code",
   "execution_count": 10,
   "id": "c1e8c4b7-597e-4fd7-b5da-c1839fa0d6a9",
   "metadata": {},
   "outputs": [
    {
     "data": {
      "text/plain": [
       "113"
      ]
     },
     "execution_count": 10,
     "metadata": {},
     "output_type": "execute_result"
    }
   ],
   "source": [
    "len(data1)"
   ]
  },
  {
   "cell_type": "code",
   "execution_count": 11,
   "id": "b6c959aa-02a1-4353-9a3d-bc37342bd054",
   "metadata": {},
   "outputs": [
    {
     "name": "stdout",
     "output_type": "stream",
     "text": [
      "107\n",
      "X_train length: (107, 1)\n",
      "X_test length: (6, 1)\n",
      "y_train length: (107, 1)\n",
      "y_test length: (6, 1)\n"
     ]
    }
   ],
   "source": [
    "training_size = round(len(data1 ) * 0.95)\n",
    "print(training_size)\n",
    "X_train=data1[:training_size]\n",
    "X_test=data1[training_size:]\n",
    "print(\"X_train length:\",X_train.shape)\n",
    "print(\"X_test length:\",X_test.shape)\n",
    "y_train=data1[:training_size]\n",
    "y_test=data1[training_size:]\n",
    "print(\"y_train length:\",y_train.shape)\n",
    "print(\"y_test length:\",y_test.shape)"
   ]
  },
  {
   "cell_type": "code",
   "execution_count": 12,
   "id": "b4326e30-82d5-4fbb-bf7d-7a3a1842f13f",
   "metadata": {},
   "outputs": [],
   "source": [
    "import warnings\n",
    "warnings.filterwarnings(\"ignore\")"
   ]
  },
  {
   "cell_type": "code",
   "execution_count": 13,
   "id": "47de3219-51c9-4d0e-9e3d-9fc79d25539a",
   "metadata": {},
   "outputs": [
    {
     "name": "stderr",
     "output_type": "stream",
     "text": [
      "C:\\Users\\Dell\\anaconda3\\envs\\tsa\\Lib\\site-packages\\statsmodels\\base\\model.py:607: ConvergenceWarning: Maximum Likelihood optimization failed to converge. Check mle_retvals\n",
      "  warnings.warn(\"Maximum Likelihood optimization failed to \"\n"
     ]
    },
    {
     "name": "stdout",
     "output_type": "stream",
     "text": [
      "Trend=n\n",
      "RMSE-Testset: 0.27066841055885177\n",
      "maPe-Testset: 0.5536518732266208\n",
      "************\n"
     ]
    },
    {
     "name": "stderr",
     "output_type": "stream",
     "text": [
      "C:\\Users\\Dell\\anaconda3\\envs\\tsa\\Lib\\site-packages\\statsmodels\\base\\model.py:607: ConvergenceWarning: Maximum Likelihood optimization failed to converge. Check mle_retvals\n",
      "  warnings.warn(\"Maximum Likelihood optimization failed to \"\n"
     ]
    },
    {
     "name": "stdout",
     "output_type": "stream",
     "text": [
      "Trend=t\n",
      "RMSE-Testset: 0.12798686456858752\n",
      "maPe-Testset: 0.3487569896097928\n",
      "************\n"
     ]
    },
    {
     "name": "stderr",
     "output_type": "stream",
     "text": [
      "C:\\Users\\Dell\\anaconda3\\envs\\tsa\\Lib\\site-packages\\statsmodels\\base\\model.py:607: ConvergenceWarning: Maximum Likelihood optimization failed to converge. Check mle_retvals\n",
      "  warnings.warn(\"Maximum Likelihood optimization failed to \"\n"
     ]
    },
    {
     "name": "stdout",
     "output_type": "stream",
     "text": [
      "Trend=c\n",
      "RMSE-Testset: 0.09296503438921602\n",
      "maPe-Testset: 0.19855957437684071\n",
      "************\n",
      "Trend=ct\n",
      "RMSE-Testset: 0.11354841163580835\n",
      "maPe-Testset: 0.3191398344188631\n",
      "************\n"
     ]
    }
   ],
   "source": [
    "from sklearn.metrics import mean_squared_error\n",
    "trends=['n','t','c','ct']\n",
    "orders=[(0,0,1),(0,0,2)]\n",
    "from statsmodels.tsa.arima.model import ARIMA\n",
    "for td in trends:\n",
    "        \n",
    "        #print(td)\n",
    "        #trendslist.append(td)\n",
    "    model = ARIMA(X_train, order=(0,0,10),trend=td,)\n",
    "    model_fit = model.fit()\n",
    "        # make prediction\n",
    "    y_pred= model_fit.predict(len(X_train), len(data1)-1)\n",
    "        #print(y_pred)\n",
    "    from sklearn.metrics import r2_score\n",
    "    mse=mean_squared_error(y_test,y_pred,squared=False)\n",
    "    from stockFunctions import rmsemape\n",
    "    print(\"Trend={}\".format(td))\n",
    "    rmsemape(y_test,y_pred)\n",
    "    print(\"************\")"
   ]
  },
  {
   "cell_type": "code",
   "execution_count": 14,
   "id": "e6a1d867-f45b-4649-aa61-87ec1396fbb5",
   "metadata": {},
   "outputs": [
    {
     "data": {
      "text/plain": [
       "6"
      ]
     },
     "execution_count": 14,
     "metadata": {},
     "output_type": "execute_result"
    }
   ],
   "source": [
    "len(y_pred)"
   ]
  },
  {
   "cell_type": "code",
   "execution_count": 15,
   "id": "707faf29-ddfc-42c7-8207-c54d32bd7561",
   "metadata": {},
   "outputs": [
    {
     "name": "stderr",
     "output_type": "stream",
     "text": [
      "C:\\Users\\Dell\\anaconda3\\envs\\tsa\\Lib\\site-packages\\statsmodels\\base\\model.py:607: ConvergenceWarning: Maximum Likelihood optimization failed to converge. Check mle_retvals\n",
      "  warnings.warn(\"Maximum Likelihood optimization failed to \"\n"
     ]
    },
    {
     "name": "stdout",
     "output_type": "stream",
     "text": [
      "Trend=c\n",
      "RMSE-Testset: 0.1642507593503384\n",
      "maPe-Testset: 0.3783522303379367\n",
      "************\n"
     ]
    }
   ],
   "source": [
    "#i=1\n",
    "td=\"c\"\n",
    "model = ARIMA(X_train, order=(0,0,30),trend=td)\n",
    "model_fit = model.fit()\n",
    "# make prediction\n",
    "y_pred= model_fit.predict(len(X_train), len(data1)-1)\n",
    "#print(y_pred)\n",
    "from sklearn.metrics import r2_score\n",
    "mse=mean_squared_error(y_test,y_pred,squared=False)\n",
    "from stockFunctions import rmsemape\n",
    "print(\"Trend={}\".format(td))\n",
    "rmsemape(y_test,y_pred)\n",
    "print(\"************\")"
   ]
  },
  {
   "cell_type": "code",
   "execution_count": 16,
   "id": "f9173808-f769-4b82-99f8-3e731b847431",
   "metadata": {},
   "outputs": [
    {
     "data": {
      "image/png": "[encoded data removed]",
      "text/plain": [
       "<Figure size 1000x500 with 1 Axes>"
      ]
     },
     "metadata": {},
     "output_type": "display_data"
    }
   ],
   "source": [
    "from stockFunctions import graph\n",
    "graph(y_test,y_pred,\"Actual\",\"Predicted\",\"ZOMATO.NS-Close-MA-Norm\",\"Days\",\"Prices\")"
   ]
  },
  {
   "cell_type": "code",
   "execution_count": 17,
   "id": "38a44625-dfb9-4f5f-85df-d5bd9b45d443",
   "metadata": {},
   "outputs": [
    {
     "data": {
      "text/plain": [
       "113"
      ]
     },
     "execution_count": 17,
     "metadata": {},
     "output_type": "execute_result"
    }
   ],
   "source": [
    "len(data1)"
   ]
  },
  {
   "cell_type": "code",
   "execution_count": 18,
   "id": "d31066a9-47d5-49dd-a44e-e94801ca9a0b",
   "metadata": {},
   "outputs": [],
   "source": [
    "from stockFunctions import conversionSingle\n",
    "aTestNormTable=conversionSingle(y_test,[column])\n",
    "actual_stock_price_test_ori=Ms.inverse_transform(aTestNormTable)\n",
    "actual_stock_price_test_oriA=conversionSingle(actual_stock_price_test_ori,[column])"
   ]
  },
  {
   "cell_type": "code",
   "execution_count": 19,
   "id": "dc06ff51-3107-4c76-ab77-176c1a41b7f5",
   "metadata": {},
   "outputs": [],
   "source": [
    "from stockFunctions import conversionSingle\n",
    "pTestNormTable=conversionSingle(y_pred,[column])\n",
    "predicted_stock_price_test_ori=Ms.inverse_transform(pTestNormTable)\n",
    "predicted_stock_price_test_oriP=conversionSingle(predicted_stock_price_test_ori,[column])"
   ]
  },
  {
   "cell_type": "code",
   "execution_count": 20,
   "id": "7c865eb7-ed6d-4dd6-9b89-afb42d6a1108",
   "metadata": {},
   "outputs": [
    {
     "data": {
      "image/png": "[encoded data removed]",
      "text/plain": [
       "<Figure size 1000x500 with 1 Axes>"
      ]
     },
     "metadata": {},
     "output_type": "display_data"
    }
   ],
   "source": [
    "from stockFunctions import graph\n",
    "graph(actual_stock_price_test_oriA,predicted_stock_price_test_oriP,\"Actual\",\"Predicted\",\"ZOMATO.NS-Close-MA-Ori\",\"Days\",\"Prices\")"
   ]
  },
  {
   "cell_type": "code",
   "execution_count": 21,
   "id": "8e322cd8-8418-416f-9a61-8ee051ac58e2",
   "metadata": {},
   "outputs": [
    {
     "name": "stdout",
     "output_type": "stream",
     "text": [
      "RMSE-Testset: 5.921240375833238\n",
      "maPe-Testset: 0.03704050097503925\n"
     ]
    }
   ],
   "source": [
    "from stockFunctions import rmsemape\n",
    "rmsemape(actual_stock_price_test_oriA,predicted_stock_price_test_oriP)"
   ]
  },
  {
   "cell_type": "code",
   "execution_count": 22,
   "id": "c197964b-b751-46ce-a50b-f7913edd4baf",
   "metadata": {},
   "outputs": [],
   "source": [
    "forecast=model_fit.predict(len(data1), len(data1))"
   ]
  },
  {
   "cell_type": "code",
   "execution_count": 23,
   "id": "234c126e-758b-468d-bc3f-63c0c23001d1",
   "metadata": {},
   "outputs": [
    {
     "data": {
      "text/plain": [
       "array([0.22328758])"
      ]
     },
     "execution_count": 23,
     "metadata": {},
     "output_type": "execute_result"
    }
   ],
   "source": [
    "forecast"
   ]
  },
  {
   "cell_type": "code",
   "execution_count": 24,
   "id": "a980f06f-1881-4cf6-82b1-a4c1f3cf2396",
   "metadata": {},
   "outputs": [],
   "source": [
    "from stockFunctions import conversionSingle\n",
    "fTestNormTable=conversionSingle(forecast,[\"Closefore\"])\n",
    "forecast_stock_price_test_ori=Ms.inverse_transform(fTestNormTable)\n",
    "forecast_stock_price_test_oriF=conversionSingle(forecast_stock_price_test_ori,[\"Closefore\"])"
   ]
  },
  {
   "cell_type": "code",
   "execution_count": 25,
   "id": "81cd2f76-d48a-4cb6-8dbc-6ecf197244d8",
   "metadata": {},
   "outputs": [
    {
     "data": {
      "text/html": [
       "<div>\n",
       "<style scoped>\n",
       "    .dataframe tbody tr th:only-of-type {\n",
       "        vertical-align: middle;\n",
       "    }\n",
       "\n",
       "    .dataframe tbody tr th {\n",
       "        vertical-align: top;\n",
       "    }\n",
       "\n",
       "    .dataframe thead th {\n",
       "        text-align: right;\n",
       "    }\n",
       "</style>\n",
       "<table border=\"1\" class=\"dataframe\">\n",
       "  <thead>\n",
       "    <tr style=\"text-align: right;\">\n",
       "      <th></th>\n",
       "      <th>Closefore</th>\n",
       "    </tr>\n",
       "  </thead>\n",
       "  <tbody>\n",
       "    <tr>\n",
       "      <th>0</th>\n",
       "      <td>132.299518</td>\n",
       "    </tr>\n",
       "  </tbody>\n",
       "</table>\n",
       "</div>"
      ],
      "text/plain": [
       "    Closefore\n",
       "0  132.299518"
      ]
     },
     "execution_count": 25,
     "metadata": {},
     "output_type": "execute_result"
    }
   ],
   "source": [
    "forecast_stock_price_test_oriF"
   ]
  },
  {
   "cell_type": "code",
   "execution_count": null,
   "id": "753a1a2d-575c-490f-aeda-60cd43a53596",
   "metadata": {},
   "outputs": [],
   "source": []
  }
 ],
 "metadata": {
  "kernelspec": {
   "display_name": "Python 3 (ipykernel)",
   "language": "python",
   "name": "python3"
  },
  "language_info": {
   "codemirror_mode": {
    "name": "ipython",
    "version": 3
   },
   "file_extension": ".py",
   "mimetype": "text/x-python",
   "name": "python",
   "nbconvert_exporter": "python",
   "pygments_lexer": "ipython3",
   "version": "3.11.8"
  }
 },
 "nbformat": 4,
 "nbformat_minor": 5
}
