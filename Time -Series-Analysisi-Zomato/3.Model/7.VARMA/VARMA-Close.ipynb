{
 "cells": [
  {
   "cell_type": "code",
   "execution_count": 1,
   "id": "66c48ef5-59a3-4c7f-9c95-17ca7c336970",
   "metadata": {},
   "outputs": [],
   "source": [
    "import pandas as pd\n",
    "import datetime as dt\n",
    "import yfinance as yf"
   ]
  },
  {
   "cell_type": "code",
   "execution_count": 2,
   "id": "01e1bc19-01a1-4aab-9bee-25789ccfbb44",
   "metadata": {},
   "outputs": [
    {
     "name": "stderr",
     "output_type": "stream",
     "text": [
      "[*********************100%***********************]  1 of 1 completed\n"
     ]
    }
   ],
   "source": [
    "# Define the time period and stock symbol\n",
    "start = dt.datetime(2021, 6, 1)\n",
    "end = dt.datetime(2022, 1, 5)\n",
    "symbol = 'ZOMATO.NS'\n",
    "\n",
    "# Download stock data\n",
    "stk_data = yf.download(symbol, start=start, end=end)"
   ]
  },
  {
   "cell_type": "code",
   "execution_count": 3,
   "id": "5dc01666-16c2-44a3-8e62-3a5dcab114c7",
   "metadata": {},
   "outputs": [],
   "source": [
    "# Selecting specific columns\n",
    "stk_data = stk_data[[\"Open\", \"High\", \"Low\", \"Close\"]]"
   ]
  },
  {
   "cell_type": "code",
   "execution_count": 4,
   "id": "110369f0-89d2-45f6-925a-1967b2aecae3",
   "metadata": {},
   "outputs": [
    {
     "data": {
      "text/html": [
       "<div>\n",
       "<style scoped>\n",
       "    .dataframe tbody tr th:only-of-type {\n",
       "        vertical-align: middle;\n",
       "    }\n",
       "\n",
       "    .dataframe tbody tr th {\n",
       "        vertical-align: top;\n",
       "    }\n",
       "\n",
       "    .dataframe thead tr th {\n",
       "        text-align: left;\n",
       "    }\n",
       "\n",
       "    .dataframe thead tr:last-of-type th {\n",
       "        text-align: right;\n",
       "    }\n",
       "</style>\n",
       "<table border=\"1\" class=\"dataframe\">\n",
       "  <thead>\n",
       "    <tr>\n",
       "      <th>Price</th>\n",
       "      <th>Open</th>\n",
       "      <th>High</th>\n",
       "      <th>Low</th>\n",
       "      <th>Close</th>\n",
       "    </tr>\n",
       "    <tr>\n",
       "      <th>Ticker</th>\n",
       "      <th>ZOMATO.NS</th>\n",
       "      <th>ZOMATO.NS</th>\n",
       "      <th>ZOMATO.NS</th>\n",
       "      <th>ZOMATO.NS</th>\n",
       "    </tr>\n",
       "    <tr>\n",
       "      <th>Date</th>\n",
       "      <th></th>\n",
       "      <th></th>\n",
       "      <th></th>\n",
       "      <th></th>\n",
       "    </tr>\n",
       "  </thead>\n",
       "  <tbody>\n",
       "    <tr>\n",
       "      <th>2021-07-23</th>\n",
       "      <td>116.000000</td>\n",
       "      <td>138.899994</td>\n",
       "      <td>115.000000</td>\n",
       "      <td>126.000000</td>\n",
       "    </tr>\n",
       "    <tr>\n",
       "      <th>2021-07-26</th>\n",
       "      <td>126.349998</td>\n",
       "      <td>143.750000</td>\n",
       "      <td>125.300003</td>\n",
       "      <td>140.649994</td>\n",
       "    </tr>\n",
       "    <tr>\n",
       "      <th>2021-07-27</th>\n",
       "      <td>141.699997</td>\n",
       "      <td>147.800003</td>\n",
       "      <td>127.750000</td>\n",
       "      <td>132.899994</td>\n",
       "    </tr>\n",
       "    <tr>\n",
       "      <th>2021-07-28</th>\n",
       "      <td>131.000000</td>\n",
       "      <td>135.000000</td>\n",
       "      <td>123.550003</td>\n",
       "      <td>131.199997</td>\n",
       "    </tr>\n",
       "    <tr>\n",
       "      <th>2021-07-29</th>\n",
       "      <td>134.949997</td>\n",
       "      <td>144.000000</td>\n",
       "      <td>132.199997</td>\n",
       "      <td>141.550003</td>\n",
       "    </tr>\n",
       "    <tr>\n",
       "      <th>...</th>\n",
       "      <td>...</td>\n",
       "      <td>...</td>\n",
       "      <td>...</td>\n",
       "      <td>...</td>\n",
       "    </tr>\n",
       "    <tr>\n",
       "      <th>2021-12-29</th>\n",
       "      <td>132.699997</td>\n",
       "      <td>137.699997</td>\n",
       "      <td>131.550003</td>\n",
       "      <td>137.100006</td>\n",
       "    </tr>\n",
       "    <tr>\n",
       "      <th>2021-12-30</th>\n",
       "      <td>137.050003</td>\n",
       "      <td>137.050003</td>\n",
       "      <td>133.300003</td>\n",
       "      <td>133.949997</td>\n",
       "    </tr>\n",
       "    <tr>\n",
       "      <th>2021-12-31</th>\n",
       "      <td>133.850006</td>\n",
       "      <td>138.399994</td>\n",
       "      <td>133.399994</td>\n",
       "      <td>137.399994</td>\n",
       "    </tr>\n",
       "    <tr>\n",
       "      <th>2022-01-03</th>\n",
       "      <td>139.699997</td>\n",
       "      <td>142.449997</td>\n",
       "      <td>138.300003</td>\n",
       "      <td>141.350006</td>\n",
       "    </tr>\n",
       "    <tr>\n",
       "      <th>2022-01-04</th>\n",
       "      <td>141.350006</td>\n",
       "      <td>141.550003</td>\n",
       "      <td>137.600006</td>\n",
       "      <td>138.350006</td>\n",
       "    </tr>\n",
       "  </tbody>\n",
       "</table>\n",
       "<p>113 rows × 4 columns</p>\n",
       "</div>"
      ],
      "text/plain": [
       "Price             Open        High         Low       Close\n",
       "Ticker       ZOMATO.NS   ZOMATO.NS   ZOMATO.NS   ZOMATO.NS\n",
       "Date                                                      \n",
       "2021-07-23  116.000000  138.899994  115.000000  126.000000\n",
       "2021-07-26  126.349998  143.750000  125.300003  140.649994\n",
       "2021-07-27  141.699997  147.800003  127.750000  132.899994\n",
       "2021-07-28  131.000000  135.000000  123.550003  131.199997\n",
       "2021-07-29  134.949997  144.000000  132.199997  141.550003\n",
       "...                ...         ...         ...         ...\n",
       "2021-12-29  132.699997  137.699997  131.550003  137.100006\n",
       "2021-12-30  137.050003  137.050003  133.300003  133.949997\n",
       "2021-12-31  133.850006  138.399994  133.399994  137.399994\n",
       "2022-01-03  139.699997  142.449997  138.300003  141.350006\n",
       "2022-01-04  141.350006  141.550003  137.600006  138.350006\n",
       "\n",
       "[113 rows x 4 columns]"
      ]
     },
     "execution_count": 4,
     "metadata": {},
     "output_type": "execute_result"
    }
   ],
   "source": [
    "stk_data "
   ]
  },
  {
   "cell_type": "code",
   "execution_count": 5,
   "id": "a6bd2a4a-d2fe-420e-90b2-89cdf92eab6e",
   "metadata": {},
   "outputs": [],
   "source": [
    "# Adjust to your column names\n",
    "new_headers = ['Open','High','Low','Close'] \n",
    "stk_data.columns = new_headers"
   ]
  },
  {
   "cell_type": "code",
   "execution_count": 6,
   "id": "6debf431-2331-463f-a20a-fa4229f9b96c",
   "metadata": {},
   "outputs": [
    {
     "data": {
      "text/html": [
       "<div>\n",
       "<style scoped>\n",
       "    .dataframe tbody tr th:only-of-type {\n",
       "        vertical-align: middle;\n",
       "    }\n",
       "\n",
       "    .dataframe tbody tr th {\n",
       "        vertical-align: top;\n",
       "    }\n",
       "\n",
       "    .dataframe thead th {\n",
       "        text-align: right;\n",
       "    }\n",
       "</style>\n",
       "<table border=\"1\" class=\"dataframe\">\n",
       "  <thead>\n",
       "    <tr style=\"text-align: right;\">\n",
       "      <th></th>\n",
       "      <th>Open</th>\n",
       "      <th>High</th>\n",
       "      <th>Low</th>\n",
       "      <th>Close</th>\n",
       "    </tr>\n",
       "    <tr>\n",
       "      <th>Date</th>\n",
       "      <th></th>\n",
       "      <th></th>\n",
       "      <th></th>\n",
       "      <th></th>\n",
       "    </tr>\n",
       "  </thead>\n",
       "  <tbody>\n",
       "    <tr>\n",
       "      <th>2021-07-23</th>\n",
       "      <td>116.000000</td>\n",
       "      <td>138.899994</td>\n",
       "      <td>115.000000</td>\n",
       "      <td>126.000000</td>\n",
       "    </tr>\n",
       "    <tr>\n",
       "      <th>2021-07-26</th>\n",
       "      <td>126.349998</td>\n",
       "      <td>143.750000</td>\n",
       "      <td>125.300003</td>\n",
       "      <td>140.649994</td>\n",
       "    </tr>\n",
       "    <tr>\n",
       "      <th>2021-07-27</th>\n",
       "      <td>141.699997</td>\n",
       "      <td>147.800003</td>\n",
       "      <td>127.750000</td>\n",
       "      <td>132.899994</td>\n",
       "    </tr>\n",
       "    <tr>\n",
       "      <th>2021-07-28</th>\n",
       "      <td>131.000000</td>\n",
       "      <td>135.000000</td>\n",
       "      <td>123.550003</td>\n",
       "      <td>131.199997</td>\n",
       "    </tr>\n",
       "    <tr>\n",
       "      <th>2021-07-29</th>\n",
       "      <td>134.949997</td>\n",
       "      <td>144.000000</td>\n",
       "      <td>132.199997</td>\n",
       "      <td>141.550003</td>\n",
       "    </tr>\n",
       "    <tr>\n",
       "      <th>...</th>\n",
       "      <td>...</td>\n",
       "      <td>...</td>\n",
       "      <td>...</td>\n",
       "      <td>...</td>\n",
       "    </tr>\n",
       "    <tr>\n",
       "      <th>2021-12-29</th>\n",
       "      <td>132.699997</td>\n",
       "      <td>137.699997</td>\n",
       "      <td>131.550003</td>\n",
       "      <td>137.100006</td>\n",
       "    </tr>\n",
       "    <tr>\n",
       "      <th>2021-12-30</th>\n",
       "      <td>137.050003</td>\n",
       "      <td>137.050003</td>\n",
       "      <td>133.300003</td>\n",
       "      <td>133.949997</td>\n",
       "    </tr>\n",
       "    <tr>\n",
       "      <th>2021-12-31</th>\n",
       "      <td>133.850006</td>\n",
       "      <td>138.399994</td>\n",
       "      <td>133.399994</td>\n",
       "      <td>137.399994</td>\n",
       "    </tr>\n",
       "    <tr>\n",
       "      <th>2022-01-03</th>\n",
       "      <td>139.699997</td>\n",
       "      <td>142.449997</td>\n",
       "      <td>138.300003</td>\n",
       "      <td>141.350006</td>\n",
       "    </tr>\n",
       "    <tr>\n",
       "      <th>2022-01-04</th>\n",
       "      <td>141.350006</td>\n",
       "      <td>141.550003</td>\n",
       "      <td>137.600006</td>\n",
       "      <td>138.350006</td>\n",
       "    </tr>\n",
       "  </tbody>\n",
       "</table>\n",
       "<p>113 rows × 4 columns</p>\n",
       "</div>"
      ],
      "text/plain": [
       "                  Open        High         Low       Close\n",
       "Date                                                      \n",
       "2021-07-23  116.000000  138.899994  115.000000  126.000000\n",
       "2021-07-26  126.349998  143.750000  125.300003  140.649994\n",
       "2021-07-27  141.699997  147.800003  127.750000  132.899994\n",
       "2021-07-28  131.000000  135.000000  123.550003  131.199997\n",
       "2021-07-29  134.949997  144.000000  132.199997  141.550003\n",
       "...                ...         ...         ...         ...\n",
       "2021-12-29  132.699997  137.699997  131.550003  137.100006\n",
       "2021-12-30  137.050003  137.050003  133.300003  133.949997\n",
       "2021-12-31  133.850006  138.399994  133.399994  137.399994\n",
       "2022-01-03  139.699997  142.449997  138.300003  141.350006\n",
       "2022-01-04  141.350006  141.550003  137.600006  138.350006\n",
       "\n",
       "[113 rows x 4 columns]"
      ]
     },
     "execution_count": 6,
     "metadata": {},
     "output_type": "execute_result"
    }
   ],
   "source": [
    "stk_data"
   ]
  },
  {
   "cell_type": "code",
   "execution_count": 7,
   "id": "1611573c-bdad-4944-94a3-d5ec1acc2a85",
   "metadata": {},
   "outputs": [
    {
     "name": "stdout",
     "output_type": "stream",
     "text": [
      "<class 'pandas.core.frame.DataFrame'>\n",
      "DatetimeIndex: 113 entries, 2021-07-23 to 2022-01-04\n",
      "Data columns (total 4 columns):\n",
      " #   Column  Non-Null Count  Dtype  \n",
      "---  ------  --------------  -----  \n",
      " 0   Open    113 non-null    float64\n",
      " 1   High    113 non-null    float64\n",
      " 2   Low     113 non-null    float64\n",
      " 3   Close   113 non-null    float64\n",
      "dtypes: float64(4)\n",
      "memory usage: 4.4 KB\n"
     ]
    }
   ],
   "source": [
    "stk_data.info()"
   ]
  },
  {
   "cell_type": "code",
   "execution_count": 8,
   "id": "867effa8-604b-4a1f-8fc7-65496cffb462",
   "metadata": {},
   "outputs": [
    {
     "name": "stdout",
     "output_type": "stream",
     "text": [
      "Len: (113, 4)\n"
     ]
    }
   ],
   "source": [
    "from sklearn.preprocessing import MinMaxScaler\n",
    "Ms = MinMaxScaler()\n",
    "data1= Ms.fit_transform(stk_data)\n",
    "print(\"Len:\",data1.shape)"
   ]
  },
  {
   "cell_type": "code",
   "execution_count": 9,
   "id": "3f19ae91-7f18-41b6-a58d-7b42cba8c40a",
   "metadata": {},
   "outputs": [],
   "source": [
    "data1=pd.DataFrame(data1,columns=[\"Open Price\",\"High Price\",\"Low Price\",\"Close Price\"])"
   ]
  },
  {
   "cell_type": "code",
   "execution_count": 10,
   "id": "341494f9-e906-490c-9bf0-0be65ef0f457",
   "metadata": {},
   "outputs": [
    {
     "name": "stdout",
     "output_type": "stream",
     "text": [
      "90\n",
      "X_train length: (90, 4)\n",
      "X_test length: (23, 4)\n",
      "y_train length: (90, 4)\n",
      "y_test length: (23, 4)\n"
     ]
    }
   ],
   "source": [
    "training_size = round(len(data1 ) * 0.80)\n",
    "print(training_size)\n",
    "X_train=data1[:training_size]\n",
    "X_test=data1[training_size:]\n",
    "print(\"X_train length:\",X_train.shape)\n",
    "print(\"X_test length:\",X_test.shape)\n",
    "y_train=data1[:training_size]\n",
    "y_test=data1[training_size:]\n",
    "print(\"y_train length:\",y_train.shape)\n",
    "print(\"y_test length:\",y_test.shape)"
   ]
  },
  {
   "cell_type": "code",
   "execution_count": 11,
   "id": "e07a52f9-75e2-48cc-833d-76789adc00a4",
   "metadata": {},
   "outputs": [],
   "source": [
    "import warnings\n",
    "warnings.filterwarnings(\"ignore\")"
   ]
  },
  {
   "cell_type": "code",
   "execution_count": 12,
   "id": "413d00f1-8e05-4875-bf13-7918597d2de9",
   "metadata": {},
   "outputs": [],
   "source": [
    "listt=[\"Close Price\",\"High Price\",\"Open Price\",\"Low Price\"]"
   ]
  },
  {
   "cell_type": "code",
   "execution_count": 13,
   "id": "25eeea00-00de-4f53-bedc-d0b667b09a1f",
   "metadata": {},
   "outputs": [
    {
     "data": {
      "text/plain": [
       "['Close Price', 'High Price', 'Open Price', 'Low Price']"
      ]
     },
     "execution_count": 13,
     "metadata": {},
     "output_type": "execute_result"
    }
   ],
   "source": [
    "listt"
   ]
  },
  {
   "cell_type": "code",
   "execution_count": 14,
   "id": "ff76470e-4960-46ac-9dab-63a04357fb4d",
   "metadata": {},
   "outputs": [
    {
     "data": {
      "text/html": [
       "<div>\n",
       "<style scoped>\n",
       "    .dataframe tbody tr th:only-of-type {\n",
       "        vertical-align: middle;\n",
       "    }\n",
       "\n",
       "    .dataframe tbody tr th {\n",
       "        vertical-align: top;\n",
       "    }\n",
       "\n",
       "    .dataframe thead th {\n",
       "        text-align: right;\n",
       "    }\n",
       "</style>\n",
       "<table border=\"1\" class=\"dataframe\">\n",
       "  <thead>\n",
       "    <tr style=\"text-align: right;\">\n",
       "      <th></th>\n",
       "      <th>Open Price</th>\n",
       "      <th>High Price</th>\n",
       "      <th>Low Price</th>\n",
       "      <th>Close Price</th>\n",
       "    </tr>\n",
       "  </thead>\n",
       "  <tbody>\n",
       "    <tr>\n",
       "      <th>0</th>\n",
       "      <td>0.000000</td>\n",
       "      <td>0.280764</td>\n",
       "      <td>0.000000</td>\n",
       "      <td>0.048544</td>\n",
       "    </tr>\n",
       "    <tr>\n",
       "      <th>1</th>\n",
       "      <td>0.229236</td>\n",
       "      <td>0.396655</td>\n",
       "      <td>0.262420</td>\n",
       "      <td>0.454924</td>\n",
       "    </tr>\n",
       "    <tr>\n",
       "      <th>2</th>\n",
       "      <td>0.569214</td>\n",
       "      <td>0.493429</td>\n",
       "      <td>0.324841</td>\n",
       "      <td>0.239944</td>\n",
       "    </tr>\n",
       "    <tr>\n",
       "      <th>3</th>\n",
       "      <td>0.332226</td>\n",
       "      <td>0.187575</td>\n",
       "      <td>0.217834</td>\n",
       "      <td>0.192788</td>\n",
       "    </tr>\n",
       "    <tr>\n",
       "      <th>4</th>\n",
       "      <td>0.419712</td>\n",
       "      <td>0.402628</td>\n",
       "      <td>0.438216</td>\n",
       "      <td>0.479889</td>\n",
       "    </tr>\n",
       "    <tr>\n",
       "      <th>...</th>\n",
       "      <td>...</td>\n",
       "      <td>...</td>\n",
       "      <td>...</td>\n",
       "      <td>...</td>\n",
       "    </tr>\n",
       "    <tr>\n",
       "      <th>108</th>\n",
       "      <td>0.369878</td>\n",
       "      <td>0.252091</td>\n",
       "      <td>0.421656</td>\n",
       "      <td>0.356450</td>\n",
       "    </tr>\n",
       "    <tr>\n",
       "      <th>109</th>\n",
       "      <td>0.466224</td>\n",
       "      <td>0.236559</td>\n",
       "      <td>0.466242</td>\n",
       "      <td>0.269071</td>\n",
       "    </tr>\n",
       "    <tr>\n",
       "      <th>110</th>\n",
       "      <td>0.395349</td>\n",
       "      <td>0.268817</td>\n",
       "      <td>0.468790</td>\n",
       "      <td>0.364771</td>\n",
       "    </tr>\n",
       "    <tr>\n",
       "      <th>111</th>\n",
       "      <td>0.524917</td>\n",
       "      <td>0.365591</td>\n",
       "      <td>0.593631</td>\n",
       "      <td>0.474341</td>\n",
       "    </tr>\n",
       "    <tr>\n",
       "      <th>112</th>\n",
       "      <td>0.561462</td>\n",
       "      <td>0.344086</td>\n",
       "      <td>0.575796</td>\n",
       "      <td>0.391124</td>\n",
       "    </tr>\n",
       "  </tbody>\n",
       "</table>\n",
       "<p>113 rows × 4 columns</p>\n",
       "</div>"
      ],
      "text/plain": [
       "     Open Price  High Price  Low Price  Close Price\n",
       "0      0.000000    0.280764   0.000000     0.048544\n",
       "1      0.229236    0.396655   0.262420     0.454924\n",
       "2      0.569214    0.493429   0.324841     0.239944\n",
       "3      0.332226    0.187575   0.217834     0.192788\n",
       "4      0.419712    0.402628   0.438216     0.479889\n",
       "..          ...         ...        ...          ...\n",
       "108    0.369878    0.252091   0.421656     0.356450\n",
       "109    0.466224    0.236559   0.466242     0.269071\n",
       "110    0.395349    0.268817   0.468790     0.364771\n",
       "111    0.524917    0.365591   0.593631     0.474341\n",
       "112    0.561462    0.344086   0.575796     0.391124\n",
       "\n",
       "[113 rows x 4 columns]"
      ]
     },
     "execution_count": 14,
     "metadata": {},
     "output_type": "execute_result"
    }
   ],
   "source": [
    "data1"
   ]
  },
  {
   "cell_type": "code",
   "execution_count": 15,
   "id": "cc1d74f3-5f1e-4521-bbd3-6acd68384b21",
   "metadata": {},
   "outputs": [],
   "source": [
    "def combination(dataset,listt):\n",
    "    print(listt)\n",
    "    performance={\"Model\":[],\"RMSE\":[],\"MaPe\":[],\"Order\":[],\"Test\":[]}\n",
    "    datasetTwo=dataset[listt]\n",
    "    test_obs = 28\n",
    "    train =datasetTwo[:-test_obs]\n",
    "    test = datasetTwo[-test_obs:]\n",
    "    best_aic = float('inf')\n",
    "    from statsmodels.tsa.api import VARMAX\n",
    "    \n",
    "    best_order = None\n",
    "    best_model = None\n",
    "    \n",
    "    for p in range(1, 3):  # Autoregressive part\n",
    "        for q in range(1, 3):  # Moving average part\n",
    "            try:\n",
    "                # Initialize and fit the VARMA model\n",
    "                model = VARMAX(train, order=(p, q))\n",
    "                results = model.fit(disp=False)\n",
    "                \n",
    "                # Print the order and AIC for each model\n",
    "                print(f'Order = (p={p}, q={q})')\n",
    "                print('AIC: ', results.aic)\n",
    "                print('BIC: ', results.bic)\n",
    "                \n",
    "                # Track the best model based on AIC\n",
    "                if results.aic < best_aic:\n",
    "                    best_aic = results.aic\n",
    "                    best_order = (p, q)\n",
    "                    best_model = results\n",
    "            except Exception as e:\n",
    "                print(f\"Could not fit VARMA(p={p}, q={q}): {e}\")\n",
    "                continue\n",
    "    \n",
    "    # Use the best model to make predictions\n",
    "    if best_model is not None:\n",
    "        lagged_Values = train.values[-best_order[0]:]  # Use the AR part of the best order\n",
    "        pforecast = results.get_forecast(steps=test_obs)\n",
    "        forecasted_values = pforecast.predicted_mean\n",
    "        preds = pd.DataFrame(forecasted_values, columns=listt)\n",
    "    \n",
    "        preds.to_csv(\"varma_forecasted_{}.csv\".format(test_obs), index=False)\n",
    "        from sklearn.metrics import mean_squared_error\n",
    "        rmse= round(mean_squared_error(test,preds,squared=False))\n",
    "        from sklearn.metrics import mean_absolute_percentage_error\n",
    "        mape=mean_absolute_percentage_error(test,preds)\n",
    "        performance[\"Model\"].append(listt)\n",
    "        performance[\"RMSE\"].append(rmse)\n",
    "        performance[\"MaPe\"].append(mape)\n",
    "        performance[\"Order\"].append(best_order)\n",
    "        performance[\"Test\"].append(test_obs)\n",
    "        perf=pd.DataFrame(performance)\n",
    "    return perf,results,preds"
   ]
  },
  {
   "cell_type": "code",
   "execution_count": 16,
   "id": "094016c2-add5-42cb-bf3c-e2e348d34faa",
   "metadata": {},
   "outputs": [],
   "source": [
    "#listt=[\"AQI_calculated\",\"PM10\",\"PM2.5\",\"NOx\",\"NO2\",\"NO\",\"NH3\",\"SO2\",\"CO\",'year']"
   ]
  },
  {
   "cell_type": "code",
   "execution_count": 17,
   "id": "31690582-1288-4f56-ab9d-f2da5f3658c2",
   "metadata": {},
   "outputs": [
    {
     "name": "stdout",
     "output_type": "stream",
     "text": [
      "['Close Price', 'High Price', 'Open Price', 'Low Price']\n"
     ]
    },
    {
     "name": "stderr",
     "output_type": "stream",
     "text": [
      "C:\\Users\\Dell\\anaconda3\\envs\\tsa\\Lib\\site-packages\\statsmodels\\tsa\\statespace\\varmax.py:160: EstimationWarning: Estimation of VARMA(p,q) models is not generically robust, due especially to identification issues.\n",
      "  warn('Estimation of VARMA(p,q) models is not generically robust,'\n",
      "C:\\Users\\Dell\\anaconda3\\envs\\tsa\\Lib\\site-packages\\statsmodels\\base\\model.py:607: ConvergenceWarning: Maximum Likelihood optimization failed to converge. Check mle_retvals\n",
      "  warnings.warn(\"Maximum Likelihood optimization failed to \"\n"
     ]
    },
    {
     "name": "stdout",
     "output_type": "stream",
     "text": [
      "Order = (p=1, q=1)\n",
      "AIC:  -862.822346199606\n",
      "BIC:  -750.4603884010514\n"
     ]
    },
    {
     "name": "stderr",
     "output_type": "stream",
     "text": [
      "C:\\Users\\Dell\\anaconda3\\envs\\tsa\\Lib\\site-packages\\statsmodels\\tsa\\statespace\\varmax.py:160: EstimationWarning: Estimation of VARMA(p,q) models is not generically robust, due especially to identification issues.\n",
      "  warn('Estimation of VARMA(p,q) models is not generically robust,'\n",
      "C:\\Users\\Dell\\anaconda3\\envs\\tsa\\Lib\\site-packages\\statsmodels\\base\\model.py:607: ConvergenceWarning: Maximum Likelihood optimization failed to converge. Check mle_retvals\n",
      "  warnings.warn(\"Maximum Likelihood optimization failed to \"\n"
     ]
    },
    {
     "name": "stdout",
     "output_type": "stream",
     "text": [
      "Order = (p=1, q=2)\n",
      "AIC:  -852.7650284950274\n",
      "BIC:  -701.3206505926278\n"
     ]
    },
    {
     "name": "stderr",
     "output_type": "stream",
     "text": [
      "C:\\Users\\Dell\\anaconda3\\envs\\tsa\\Lib\\site-packages\\statsmodels\\tsa\\statespace\\varmax.py:160: EstimationWarning: Estimation of VARMA(p,q) models is not generically robust, due especially to identification issues.\n",
      "  warn('Estimation of VARMA(p,q) models is not generically robust,'\n"
     ]
    },
    {
     "name": "stdout",
     "output_type": "stream",
     "text": [
      "Order = (p=2, q=1)\n",
      "AIC:  2127.7875491500936\n",
      "BIC:  2279.2319270524936\n"
     ]
    },
    {
     "name": "stderr",
     "output_type": "stream",
     "text": [
      "C:\\Users\\Dell\\anaconda3\\envs\\tsa\\Lib\\site-packages\\statsmodels\\tsa\\statespace\\varmax.py:160: EstimationWarning: Estimation of VARMA(p,q) models is not generically robust, due especially to identification issues.\n",
      "  warn('Estimation of VARMA(p,q) models is not generically robust,'\n",
      "C:\\Users\\Dell\\anaconda3\\envs\\tsa\\Lib\\site-packages\\statsmodels\\base\\model.py:607: ConvergenceWarning: Maximum Likelihood optimization failed to converge. Check mle_retvals\n",
      "  warnings.warn(\"Maximum Likelihood optimization failed to \"\n"
     ]
    },
    {
     "name": "stdout",
     "output_type": "stream",
     "text": [
      "Order = (p=2, q=2)\n",
      "AIC:  -830.5992221121172\n",
      "BIC:  -640.0724241058725\n"
     ]
    }
   ],
   "source": [
    "perf,result,pred=combination(data1,listt) # here p is aiuto regressive , q is moving average"
   ]
  },
  {
   "cell_type": "code",
   "execution_count": 18,
   "id": "71f9f3bb-e723-47ea-9514-2904a4050be8",
   "metadata": {},
   "outputs": [
    {
     "data": {
      "text/html": [
       "<div>\n",
       "<style scoped>\n",
       "    .dataframe tbody tr th:only-of-type {\n",
       "        vertical-align: middle;\n",
       "    }\n",
       "\n",
       "    .dataframe tbody tr th {\n",
       "        vertical-align: top;\n",
       "    }\n",
       "\n",
       "    .dataframe thead th {\n",
       "        text-align: right;\n",
       "    }\n",
       "</style>\n",
       "<table border=\"1\" class=\"dataframe\">\n",
       "  <thead>\n",
       "    <tr style=\"text-align: right;\">\n",
       "      <th></th>\n",
       "      <th>Open Price</th>\n",
       "      <th>High Price</th>\n",
       "      <th>Low Price</th>\n",
       "      <th>Close Price</th>\n",
       "    </tr>\n",
       "  </thead>\n",
       "  <tbody>\n",
       "    <tr>\n",
       "      <th>0</th>\n",
       "      <td>0.000000</td>\n",
       "      <td>0.280764</td>\n",
       "      <td>0.000000</td>\n",
       "      <td>0.048544</td>\n",
       "    </tr>\n",
       "    <tr>\n",
       "      <th>1</th>\n",
       "      <td>0.229236</td>\n",
       "      <td>0.396655</td>\n",
       "      <td>0.262420</td>\n",
       "      <td>0.454924</td>\n",
       "    </tr>\n",
       "    <tr>\n",
       "      <th>2</th>\n",
       "      <td>0.569214</td>\n",
       "      <td>0.493429</td>\n",
       "      <td>0.324841</td>\n",
       "      <td>0.239944</td>\n",
       "    </tr>\n",
       "    <tr>\n",
       "      <th>3</th>\n",
       "      <td>0.332226</td>\n",
       "      <td>0.187575</td>\n",
       "      <td>0.217834</td>\n",
       "      <td>0.192788</td>\n",
       "    </tr>\n",
       "    <tr>\n",
       "      <th>4</th>\n",
       "      <td>0.419712</td>\n",
       "      <td>0.402628</td>\n",
       "      <td>0.438216</td>\n",
       "      <td>0.479889</td>\n",
       "    </tr>\n",
       "    <tr>\n",
       "      <th>...</th>\n",
       "      <td>...</td>\n",
       "      <td>...</td>\n",
       "      <td>...</td>\n",
       "      <td>...</td>\n",
       "    </tr>\n",
       "    <tr>\n",
       "      <th>108</th>\n",
       "      <td>0.369878</td>\n",
       "      <td>0.252091</td>\n",
       "      <td>0.421656</td>\n",
       "      <td>0.356450</td>\n",
       "    </tr>\n",
       "    <tr>\n",
       "      <th>109</th>\n",
       "      <td>0.466224</td>\n",
       "      <td>0.236559</td>\n",
       "      <td>0.466242</td>\n",
       "      <td>0.269071</td>\n",
       "    </tr>\n",
       "    <tr>\n",
       "      <th>110</th>\n",
       "      <td>0.395349</td>\n",
       "      <td>0.268817</td>\n",
       "      <td>0.468790</td>\n",
       "      <td>0.364771</td>\n",
       "    </tr>\n",
       "    <tr>\n",
       "      <th>111</th>\n",
       "      <td>0.524917</td>\n",
       "      <td>0.365591</td>\n",
       "      <td>0.593631</td>\n",
       "      <td>0.474341</td>\n",
       "    </tr>\n",
       "    <tr>\n",
       "      <th>112</th>\n",
       "      <td>0.561462</td>\n",
       "      <td>0.344086</td>\n",
       "      <td>0.575796</td>\n",
       "      <td>0.391124</td>\n",
       "    </tr>\n",
       "  </tbody>\n",
       "</table>\n",
       "<p>113 rows × 4 columns</p>\n",
       "</div>"
      ],
      "text/plain": [
       "     Open Price  High Price  Low Price  Close Price\n",
       "0      0.000000    0.280764   0.000000     0.048544\n",
       "1      0.229236    0.396655   0.262420     0.454924\n",
       "2      0.569214    0.493429   0.324841     0.239944\n",
       "3      0.332226    0.187575   0.217834     0.192788\n",
       "4      0.419712    0.402628   0.438216     0.479889\n",
       "..          ...         ...        ...          ...\n",
       "108    0.369878    0.252091   0.421656     0.356450\n",
       "109    0.466224    0.236559   0.466242     0.269071\n",
       "110    0.395349    0.268817   0.468790     0.364771\n",
       "111    0.524917    0.365591   0.593631     0.474341\n",
       "112    0.561462    0.344086   0.575796     0.391124\n",
       "\n",
       "[113 rows x 4 columns]"
      ]
     },
     "execution_count": 18,
     "metadata": {},
     "output_type": "execute_result"
    }
   ],
   "source": [
    "data1"
   ]
  },
  {
   "cell_type": "code",
   "execution_count": 19,
   "id": "f322250a-d0fa-4d5a-83a9-d97a41e97158",
   "metadata": {},
   "outputs": [
    {
     "data": {
      "text/html": [
       "<div>\n",
       "<style scoped>\n",
       "    .dataframe tbody tr th:only-of-type {\n",
       "        vertical-align: middle;\n",
       "    }\n",
       "\n",
       "    .dataframe tbody tr th {\n",
       "        vertical-align: top;\n",
       "    }\n",
       "\n",
       "    .dataframe thead th {\n",
       "        text-align: right;\n",
       "    }\n",
       "</style>\n",
       "<table border=\"1\" class=\"dataframe\">\n",
       "  <thead>\n",
       "    <tr style=\"text-align: right;\">\n",
       "      <th></th>\n",
       "      <th>Model</th>\n",
       "      <th>RMSE</th>\n",
       "      <th>MaPe</th>\n",
       "      <th>Order</th>\n",
       "      <th>Test</th>\n",
       "    </tr>\n",
       "  </thead>\n",
       "  <tbody>\n",
       "    <tr>\n",
       "      <th>0</th>\n",
       "      <td>[Close Price, High Price, Open Price, Low Price]</td>\n",
       "      <td>0</td>\n",
       "      <td>0.42824</td>\n",
       "      <td>(1, 1)</td>\n",
       "      <td>28</td>\n",
       "    </tr>\n",
       "  </tbody>\n",
       "</table>\n",
       "</div>"
      ],
      "text/plain": [
       "                                              Model  RMSE     MaPe   Order  \\\n",
       "0  [Close Price, High Price, Open Price, Low Price]     0  0.42824  (1, 1)   \n",
       "\n",
       "   Test  \n",
       "0    28  "
      ]
     },
     "execution_count": 19,
     "metadata": {},
     "output_type": "execute_result"
    }
   ],
   "source": [
    "perf"
   ]
  },
  {
   "cell_type": "code",
   "execution_count": null,
   "id": "48144790-6454-405a-ab87-6ba00cc812b5",
   "metadata": {},
   "outputs": [],
   "source": []
  }
 ],
 "metadata": {
  "kernelspec": {
   "display_name": "Python 3 (ipykernel)",
   "language": "python",
   "name": "python3"
  },
  "language_info": {
   "codemirror_mode": {
    "name": "ipython",
    "version": 3
   },
   "file_extension": ".py",
   "mimetype": "text/x-python",
   "name": "python",
   "nbconvert_exporter": "python",
   "pygments_lexer": "ipython3",
   "version": "3.11.8"
  }
 },
 "nbformat": 4,
 "nbformat_minor": 5
}
